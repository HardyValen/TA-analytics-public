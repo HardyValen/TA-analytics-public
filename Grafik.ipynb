{
 "cells": [
  {
   "cell_type": "code",
   "execution_count": 1,
   "metadata": {},
   "outputs": [],
   "source": [
    "import json\n",
    "import matplotlib.pyplot as plt\n",
    "import pandas as pd\n",
    "import numpy as np\n",
    "import os\n",
    "import math"
   ]
  },
  {
   "cell_type": "code",
   "execution_count": 2,
   "metadata": {},
   "outputs": [],
   "source": [
    "baseDir = \"/home/hardyvalen/public/semester7/ta/proyekta/UserTesting\"\n",
    "analyticsFile = \"analytics-raw.json\"\n",
    "formFile = \"form-data.csv\""
   ]
  },
  {
   "cell_type": "code",
   "execution_count": 3,
   "metadata": {},
   "outputs": [],
   "source": [
    "analyticsJSON = json.load(open(os.path.join(baseDir, analyticsFile)))"
   ]
  },
  {
   "cell_type": "code",
   "execution_count": 4,
   "metadata": {},
   "outputs": [],
   "source": [
    "formFileCSV = pd.read_csv(os.path.join(baseDir, formFile))"
   ]
  },
  {
   "cell_type": "code",
   "execution_count": 5,
   "metadata": {},
   "outputs": [
    {
     "name": "stdout",
     "output_type": "stream",
     "text": [
      "79\n"
     ]
    }
   ],
   "source": [
    "analyticsIDfromJSON = [el[\"_id\"] for el in analyticsJSON]\n",
    "print(len(analyticsIDfromJSON))"
   ]
  },
  {
   "cell_type": "code",
   "execution_count": 6,
   "metadata": {},
   "outputs": [
    {
     "name": "stdout",
     "output_type": "stream",
     "text": [
      "57\n"
     ]
    }
   ],
   "source": [
    "analyticsIDfromForm = []\n",
    "\n",
    "for idx, el in formFileCSV.iloc[:, 12].items():\n",
    "    if isinstance(el, float):\n",
    "        continue;\n",
    "    tmp = el.split(\",\")\n",
    "    for el2 in tmp:\n",
    "        analyticsIDfromForm.append(el2.strip())\n",
    "        \n",
    "print(len(analyticsIDfromForm))"
   ]
  },
  {
   "cell_type": "code",
   "execution_count": 7,
   "metadata": {},
   "outputs": [
    {
     "name": "stdout",
     "output_type": "stream",
     "text": [
      "57\n"
     ]
    }
   ],
   "source": [
    "analyticsID = []\n",
    "for el in analyticsIDfromJSON:\n",
    "    for el2 in analyticsIDfromForm:\n",
    "        if (el == el2):\n",
    "            analyticsID.append(el)\n",
    "\n",
    "print(len(analyticsID))"
   ]
  },
  {
   "cell_type": "code",
   "execution_count": 8,
   "metadata": {},
   "outputs": [],
   "source": [
    "analytics = []\n",
    "for el in analyticsID:\n",
    "    for el2 in analyticsJSON:\n",
    "        if (el == el2[\"_id\"]):\n",
    "            analytics.append(el2)\n",
    "\n",
    "f = open(\"analytics-skimmed.json\", \"w\")\n",
    "f.write(json.dumps(analytics))\n",
    "f.close()"
   ]
  },
  {
   "cell_type": "markdown",
   "metadata": {},
   "source": [
    "#### Convert semua data rating yang gabisa diputer videonya dari NaN jadi 1. "
   ]
  },
  {
   "cell_type": "code",
   "execution_count": 9,
   "metadata": {},
   "outputs": [],
   "source": [
    "mos = []\n",
    "\n",
    "for idx, row in formFileCSV.iterrows():\n",
    "    if (math.isnan(row.iloc[13])):\n",
    "        mos.append(int(1))\n",
    "        continue\n",
    "    mos.append(int(row.iloc[13]))"
   ]
  },
  {
   "cell_type": "code",
   "execution_count": 10,
   "metadata": {},
   "outputs": [
    {
     "data": {
      "text/plain": [
       "4.433962264150943"
      ]
     },
     "execution_count": 10,
     "metadata": {},
     "output_type": "execute_result"
    }
   ],
   "source": [
    "np.mean(mos)"
   ]
  },
  {
   "cell_type": "code",
   "execution_count": 15,
   "metadata": {},
   "outputs": [
    {
     "data": {
      "image/png": "[encoded data removed]",
      "text/plain": [
       "<Figure size 432x288 with 1 Axes>"
      ]
     },
     "metadata": {},
     "output_type": "display_data"
    }
   ],
   "source": [
    "mosCount = np.array([0, 0, 0, 0, 0])\n",
    "labels = \"1\", \"3\", \"4\", \"5\"\n",
    "for el in mos:\n",
    "    mosCount[el - 1] += 1\n",
    "\n",
    "fig1, ax1 = plt.subplots()\n",
    "ax1.pie(mosCount[mosCount != 0], labels=labels, autopct='%1.1f%%')\n",
    "ax1.title.set_text(\"Distribusi ACR\")\n",
    "\n",
    "# plt.show()\n",
    "plt.savefig(\"figures/01-acr-pie.png\")"
   ]
  },
  {
   "cell_type": "code",
   "execution_count": 16,
   "metadata": {},
   "outputs": [
    {
     "data": {
      "image/png": "[encoded data removed]",
      "text/plain": [
       "<Figure size 432x288 with 1 Axes>"
      ]
     },
     "metadata": {
      "needs_background": "light"
     },
     "output_type": "display_data"
    }
   ],
   "source": [
    "fig2, ax2 = plt.subplots()\n",
    "\n",
    "fig2.patch.set_visible(False)\n",
    "ax2.axis(\"off\")\n",
    "ax2.axis(\"tight\")\n",
    "\n",
    "# [[1, 4], [2, 0], [3, 3], [4, 8], [5, 38]]\n",
    "mosCount2 = []\n",
    "for idx, el in enumerate(mosCount):\n",
    "    mosCount2.append([idx + 1, el])\n",
    "\n",
    "mosCount2.append([\"Jumlah Responden\", 53])\n",
    "mosCount2.append([\"MOS\", \"{:.3f}\".format(np.mean(mos))])\n",
    "df = pd.DataFrame(mosCount2, columns=list([\"ACR\", \"Jumlah\"]))\n",
    "\n",
    "ax2.table(cellText=df.values, colLabels=df.columns, loc='center')\n",
    "fig2.tight_layout()\n",
    "plt.savefig(\"figures/02-mos-table.png\")"
   ]
  },
  {
   "cell_type": "code",
   "execution_count": null,
   "metadata": {},
   "outputs": [],
   "source": []
  }
 ],
 "metadata": {
  "kernelspec": {
   "display_name": "Python 3",
   "language": "python",
   "name": "python3"
  },
  "language_info": {
   "codemirror_mode": {
    "name": "ipython",
    "version": 3
   },
   "file_extension": ".py",
   "mimetype": "text/x-python",
   "name": "python",
   "nbconvert_exporter": "python",
   "pygments_lexer": "ipython3",
   "version": "3.7.4"
  }
 },
 "nbformat": 4,
 "nbformat_minor": 2
}
